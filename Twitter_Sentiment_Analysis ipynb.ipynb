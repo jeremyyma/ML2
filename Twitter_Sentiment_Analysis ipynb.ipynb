{
 "cells": [
  {
   "cell_type": "markdown",
   "metadata": {},
   "source": [
    "## Twitter Sentiment Analysis\n",
    "Determining whether a piece of writing is positive, negative or neutral. It’s also known as opinion mining, deriving the opinion or attitude of a speaker.\n",
    "\n",
    "conda install -n py36 -c conda-forge tweepy\n",
    "conda install -n py36 -c conda-forge textblob\n"
   ]
  },
  {
   "cell_type": "code",
   "execution_count": 36,
   "metadata": {
    "ExecuteTime": {
     "end_time": "2019-01-10T15:21:19.102978Z",
     "start_time": "2019-01-10T15:21:19.095189Z"
    }
   },
   "outputs": [],
   "source": [
    "import tweepy           # To consume Twitter's API\n",
    "import pandas as pd     # To handle data\n",
    "import numpy as np      # For number computing\n",
    "\n",
    "# For plotting and visualization:\n",
    "from IPython.display import display\n",
    "import matplotlib.pyplot as plt\n",
    "import seaborn as sns\n",
    "%matplotlib inline"
   ]
  },
  {
   "cell_type": "code",
   "execution_count": 37,
   "metadata": {
    "ExecuteTime": {
     "end_time": "2019-01-10T15:21:19.113838Z",
     "start_time": "2019-01-10T15:21:19.106716Z"
    }
   },
   "outputs": [],
   "source": [
    "# Twitter App access keys for @user\n",
    "\n",
    "# Consume:\n",
    "CONSUMER_KEY    = 'Y6QWAWLoyjHCCA20qPmBp2wkI'\n",
    "CONSUMER_SECRET = 'SZPH7zWLJuxDskwoRYqfUb2Lz1yeftyYGh7DBimGz1niLA6o5N'\n",
    "\n",
    "# Access:\n",
    "ACCESS_TOKEN  = '3896792723-IcHSdssHFC1cGpghgO2On6bc4j0y31Wzw2Yb2Gg'\n",
    "ACCESS_SECRET = 'ejbGb8zEsvpIhcPtH264pkvsfkMYjspDvaT1YSexdxrAv'\n",
    "\n",
    "# We import our access keys:\n",
    "# optional from credentials import *    # This will allow us to use the keys as variables\n",
    "\n",
    "# API's setup:\n",
    "def twitter_setup():\n",
    "    \"\"\"\n",
    "    Utility function to setup the Twitter's API\n",
    "    with our access keys provided.\n",
    "    \"\"\"\n",
    "    # Authentication and access using keys:\n",
    "    auth = tweepy.OAuthHandler(CONSUMER_KEY, CONSUMER_SECRET)\n",
    "    auth.set_access_token(ACCESS_TOKEN, ACCESS_SECRET)\n",
    "\n",
    "    # Return API with authentication:\n",
    "    api = tweepy.API(auth)\n",
    "    return api\n"
   ]
  },
  {
   "cell_type": "markdown",
   "metadata": {},
   "source": [
    "Code for extracting from Twitter"
   ]
  },
  {
   "cell_type": "code",
   "execution_count": 59,
   "metadata": {
    "ExecuteTime": {
     "end_time": "2019-01-10T15:57:14.651899Z",
     "start_time": "2019-01-10T15:57:14.463548Z"
    },
    "scrolled": true
   },
   "outputs": [
    {
     "name": "stdout",
     "output_type": "stream",
     "text": [
      "Number of tweets extracted: 0.\n",
      "\n",
      "5 recent tweets:\n",
      "\n"
     ]
    }
   ],
   "source": [
    "# We create an extractor object:\n",
    "extractor = twitter_setup()\n",
    "\n",
    "# We create a tweet list as follows:\n",
    "# tweets = extractor.user_timeline(screen_name=\"realDonaldTrump\", count=200)\n",
    "\n",
    "## search by hashtab\n",
    "tweets = extractor.user_timeline(q='#HANA', count=500) \n",
    "\n",
    "print(\"Number of tweets extracted: {}.\\n\".format(len(tweets)))\n",
    "\n",
    "# We print the most recent 5 tweets:\n",
    "print(\"5 recent tweets:\\n\")\n",
    "for tweet in tweets[:5]:\n",
    "    print(tweet.text)\n",
    "    print()"
   ]
  },
  {
   "cell_type": "markdown",
   "metadata": {},
   "source": [
    "#### Creating a (pandas) DataFrame"
   ]
  },
  {
   "cell_type": "code",
   "execution_count": 39,
   "metadata": {
    "ExecuteTime": {
     "end_time": "2019-01-10T15:21:19.936940Z",
     "start_time": "2019-01-10T15:21:19.916732Z"
    }
   },
   "outputs": [
    {
     "data": {
      "text/html": [
       "<div>\n",
       "<style scoped>\n",
       "    .dataframe tbody tr th:only-of-type {\n",
       "        vertical-align: middle;\n",
       "    }\n",
       "\n",
       "    .dataframe tbody tr th {\n",
       "        vertical-align: top;\n",
       "    }\n",
       "\n",
       "    .dataframe thead th {\n",
       "        text-align: right;\n",
       "    }\n",
       "</style>\n",
       "<table border=\"1\" class=\"dataframe\">\n",
       "  <thead>\n",
       "    <tr style=\"text-align: right;\">\n",
       "      <th></th>\n",
       "      <th>Tweets</th>\n",
       "    </tr>\n",
       "  </thead>\n",
       "  <tbody>\n",
       "    <tr>\n",
       "      <th>0</th>\n",
       "      <td>@besenthil Hello! There are a variety of resou...</td>\n",
       "    </tr>\n",
       "    <tr>\n",
       "      <th>1</th>\n",
       "      <td>@marcteerlink We're glad to hear that you foun...</td>\n",
       "    </tr>\n",
       "    <tr>\n",
       "      <th>2</th>\n",
       "      <td>Customer experiences power retail consumers' p...</td>\n",
       "    </tr>\n",
       "    <tr>\n",
       "      <th>3</th>\n",
       "      <td>We’re bringing new functionalities to the ente...</td>\n",
       "    </tr>\n",
       "    <tr>\n",
       "      <th>4</th>\n",
       "      <td>VP of @SAP_designs instructs us to combine two...</td>\n",
       "    </tr>\n",
       "    <tr>\n",
       "      <th>5</th>\n",
       "      <td>12 predictions that can impact you and your bu...</td>\n",
       "    </tr>\n",
       "    <tr>\n",
       "      <th>6</th>\n",
       "      <td>Sometimes it’s as simple as embedding intellig...</td>\n",
       "    </tr>\n",
       "    <tr>\n",
       "      <th>7</th>\n",
       "      <td>@justinemoran95 Nice photo! Inspiration from t...</td>\n",
       "    </tr>\n",
       "    <tr>\n",
       "      <th>8</th>\n",
       "      <td>@brianmoran Thanks for the shout out! Our winn...</td>\n",
       "    </tr>\n",
       "    <tr>\n",
       "      <th>9</th>\n",
       "      <td>@markgibbs_china Agree -- this is terrific new...</td>\n",
       "    </tr>\n",
       "  </tbody>\n",
       "</table>\n",
       "</div>"
      ],
      "text/plain": [
       "                                              Tweets\n",
       "0  @besenthil Hello! There are a variety of resou...\n",
       "1  @marcteerlink We're glad to hear that you foun...\n",
       "2  Customer experiences power retail consumers' p...\n",
       "3  We’re bringing new functionalities to the ente...\n",
       "4  VP of @SAP_designs instructs us to combine two...\n",
       "5  12 predictions that can impact you and your bu...\n",
       "6  Sometimes it’s as simple as embedding intellig...\n",
       "7  @justinemoran95 Nice photo! Inspiration from t...\n",
       "8  @brianmoran Thanks for the shout out! Our winn...\n",
       "9  @markgibbs_china Agree -- this is terrific new..."
      ]
     },
     "metadata": {},
     "output_type": "display_data"
    }
   ],
   "source": [
    "# We create a pandas dataframe as follows:\n",
    "data = pd.DataFrame(data=[tweet.text for tweet in tweets], columns=['Tweets'])\n",
    "\n",
    "# We display the first 10 elements of the dataframe:\n",
    "display(data.head(10))"
   ]
  },
  {
   "cell_type": "code",
   "execution_count": 40,
   "metadata": {
    "ExecuteTime": {
     "end_time": "2019-01-10T15:21:19.947014Z",
     "start_time": "2019-01-10T15:21:19.939658Z"
    }
   },
   "outputs": [
    {
     "name": "stdout",
     "output_type": "stream",
     "text": [
      "['__class__', '__delattr__', '__dict__', '__dir__', '__doc__', '__eq__', '__format__', '__ge__', '__getattribute__', '__getstate__', '__gt__', '__hash__', '__init__', '__init_subclass__', '__le__', '__lt__', '__module__', '__ne__', '__new__', '__reduce__', '__reduce_ex__', '__repr__', '__setattr__', '__sizeof__', '__str__', '__subclasshook__', '__weakref__', '_api', '_json', 'author', 'contributors', 'coordinates', 'created_at', 'destroy', 'entities', 'favorite', 'favorite_count', 'favorited', 'geo', 'id', 'id_str', 'in_reply_to_screen_name', 'in_reply_to_status_id', 'in_reply_to_status_id_str', 'in_reply_to_user_id', 'in_reply_to_user_id_str', 'is_quote_status', 'lang', 'parse', 'parse_list', 'place', 'possibly_sensitive', 'retweet', 'retweet_count', 'retweeted', 'retweets', 'source', 'source_url', 'text', 'truncated', 'user']\n"
     ]
    }
   ],
   "source": [
    "# Internal methods of a single tweet object:\n",
    "print(dir(tweets[0]))"
   ]
  },
  {
   "cell_type": "code",
   "execution_count": 41,
   "metadata": {
    "ExecuteTime": {
     "end_time": "2019-01-10T15:21:19.960212Z",
     "start_time": "2019-01-10T15:21:19.951962Z"
    }
   },
   "outputs": [
    {
     "name": "stdout",
     "output_type": "stream",
     "text": [
      "1083382859522555905\n",
      "2019-01-10 15:19:36\n",
      "Sprinklr\n",
      "0\n",
      "0\n",
      "None\n",
      "None\n",
      "{'hashtags': [], 'symbols': [], 'user_mentions': [{'screen_name': 'besenthil', 'name': 'Senthil', 'id': 14638891, 'id_str': '14638891', 'indices': [0, 10]}], 'urls': [{'url': 'https://t.co/kq5MY3LIEB', 'expanded_url': 'https://twitter.com/i/web/status/1083382859522555905', 'display_url': 'twitter.com/i/web/status/1…', 'indices': [108, 131]}]}\n"
     ]
    }
   ],
   "source": [
    "# We print info from the first tweet:\n",
    "print(tweets[0].id)\n",
    "print(tweets[0].created_at)\n",
    "print(tweets[0].source)\n",
    "print(tweets[0].favorite_count)\n",
    "print(tweets[0].retweet_count)\n",
    "print(tweets[0].geo)\n",
    "print(tweets[0].coordinates)\n",
    "print(tweets[0].entities)"
   ]
  },
  {
   "cell_type": "code",
   "execution_count": 42,
   "metadata": {
    "ExecuteTime": {
     "end_time": "2019-01-10T15:21:20.009530Z",
     "start_time": "2019-01-10T15:21:19.965897Z"
    }
   },
   "outputs": [
    {
     "data": {
      "text/html": [
       "<div>\n",
       "<style scoped>\n",
       "    .dataframe tbody tr th:only-of-type {\n",
       "        vertical-align: middle;\n",
       "    }\n",
       "\n",
       "    .dataframe tbody tr th {\n",
       "        vertical-align: top;\n",
       "    }\n",
       "\n",
       "    .dataframe thead th {\n",
       "        text-align: right;\n",
       "    }\n",
       "</style>\n",
       "<table border=\"1\" class=\"dataframe\">\n",
       "  <thead>\n",
       "    <tr style=\"text-align: right;\">\n",
       "      <th></th>\n",
       "      <th>Tweets</th>\n",
       "      <th>len</th>\n",
       "      <th>ID</th>\n",
       "      <th>Date</th>\n",
       "      <th>Source</th>\n",
       "      <th>Likes</th>\n",
       "      <th>RTs</th>\n",
       "    </tr>\n",
       "  </thead>\n",
       "  <tbody>\n",
       "    <tr>\n",
       "      <th>0</th>\n",
       "      <td>@besenthil Hello! There are a variety of resou...</td>\n",
       "      <td>131</td>\n",
       "      <td>1083382859522555905</td>\n",
       "      <td>2019-01-10 15:19:36</td>\n",
       "      <td>Sprinklr</td>\n",
       "      <td>0</td>\n",
       "      <td>0</td>\n",
       "    </tr>\n",
       "    <tr>\n",
       "      <th>1</th>\n",
       "      <td>@marcteerlink We're glad to hear that you foun...</td>\n",
       "      <td>137</td>\n",
       "      <td>1083379567539208192</td>\n",
       "      <td>2019-01-10 15:06:31</td>\n",
       "      <td>Sprinklr</td>\n",
       "      <td>1</td>\n",
       "      <td>0</td>\n",
       "    </tr>\n",
       "    <tr>\n",
       "      <th>2</th>\n",
       "      <td>Customer experiences power retail consumers' p...</td>\n",
       "      <td>140</td>\n",
       "      <td>1083368445650059264</td>\n",
       "      <td>2019-01-10 14:22:20</td>\n",
       "      <td>Sprinklr</td>\n",
       "      <td>5</td>\n",
       "      <td>1</td>\n",
       "    </tr>\n",
       "    <tr>\n",
       "      <th>3</th>\n",
       "      <td>We’re bringing new functionalities to the ente...</td>\n",
       "      <td>140</td>\n",
       "      <td>1083297746050867200</td>\n",
       "      <td>2019-01-10 09:41:24</td>\n",
       "      <td>Sprinklr</td>\n",
       "      <td>13</td>\n",
       "      <td>3</td>\n",
       "    </tr>\n",
       "    <tr>\n",
       "      <th>4</th>\n",
       "      <td>VP of @SAP_designs instructs us to combine two...</td>\n",
       "      <td>140</td>\n",
       "      <td>1083202404953264128</td>\n",
       "      <td>2019-01-10 03:22:32</td>\n",
       "      <td>Sprinklr</td>\n",
       "      <td>9</td>\n",
       "      <td>3</td>\n",
       "    </tr>\n",
       "    <tr>\n",
       "      <th>5</th>\n",
       "      <td>12 predictions that can impact you and your bu...</td>\n",
       "      <td>120</td>\n",
       "      <td>1083106673097691138</td>\n",
       "      <td>2019-01-09 21:02:08</td>\n",
       "      <td>Sprinklr</td>\n",
       "      <td>10</td>\n",
       "      <td>6</td>\n",
       "    </tr>\n",
       "    <tr>\n",
       "      <th>6</th>\n",
       "      <td>Sometimes it’s as simple as embedding intellig...</td>\n",
       "      <td>140</td>\n",
       "      <td>1083046243289497600</td>\n",
       "      <td>2019-01-09 17:02:01</td>\n",
       "      <td>Sprinklr</td>\n",
       "      <td>9</td>\n",
       "      <td>1</td>\n",
       "    </tr>\n",
       "    <tr>\n",
       "      <th>7</th>\n",
       "      <td>@justinemoran95 Nice photo! Inspiration from t...</td>\n",
       "      <td>101</td>\n",
       "      <td>1083043474361012225</td>\n",
       "      <td>2019-01-09 16:51:00</td>\n",
       "      <td>Sprinklr</td>\n",
       "      <td>1</td>\n",
       "      <td>0</td>\n",
       "    </tr>\n",
       "    <tr>\n",
       "      <th>8</th>\n",
       "      <td>@brianmoran Thanks for the shout out! Our winn...</td>\n",
       "      <td>138</td>\n",
       "      <td>1083042581745975297</td>\n",
       "      <td>2019-01-09 16:47:28</td>\n",
       "      <td>Sprinklr</td>\n",
       "      <td>1</td>\n",
       "      <td>0</td>\n",
       "    </tr>\n",
       "    <tr>\n",
       "      <th>9</th>\n",
       "      <td>@markgibbs_china Agree -- this is terrific new...</td>\n",
       "      <td>140</td>\n",
       "      <td>1083029849349021699</td>\n",
       "      <td>2019-01-09 15:56:52</td>\n",
       "      <td>Sprinklr</td>\n",
       "      <td>0</td>\n",
       "      <td>0</td>\n",
       "    </tr>\n",
       "  </tbody>\n",
       "</table>\n",
       "</div>"
      ],
      "text/plain": [
       "                                              Tweets  len  \\\n",
       "0  @besenthil Hello! There are a variety of resou...  131   \n",
       "1  @marcteerlink We're glad to hear that you foun...  137   \n",
       "2  Customer experiences power retail consumers' p...  140   \n",
       "3  We’re bringing new functionalities to the ente...  140   \n",
       "4  VP of @SAP_designs instructs us to combine two...  140   \n",
       "5  12 predictions that can impact you and your bu...  120   \n",
       "6  Sometimes it’s as simple as embedding intellig...  140   \n",
       "7  @justinemoran95 Nice photo! Inspiration from t...  101   \n",
       "8  @brianmoran Thanks for the shout out! Our winn...  138   \n",
       "9  @markgibbs_china Agree -- this is terrific new...  140   \n",
       "\n",
       "                    ID                Date    Source  Likes  RTs  \n",
       "0  1083382859522555905 2019-01-10 15:19:36  Sprinklr      0    0  \n",
       "1  1083379567539208192 2019-01-10 15:06:31  Sprinklr      1    0  \n",
       "2  1083368445650059264 2019-01-10 14:22:20  Sprinklr      5    1  \n",
       "3  1083297746050867200 2019-01-10 09:41:24  Sprinklr     13    3  \n",
       "4  1083202404953264128 2019-01-10 03:22:32  Sprinklr      9    3  \n",
       "5  1083106673097691138 2019-01-09 21:02:08  Sprinklr     10    6  \n",
       "6  1083046243289497600 2019-01-09 17:02:01  Sprinklr      9    1  \n",
       "7  1083043474361012225 2019-01-09 16:51:00  Sprinklr      1    0  \n",
       "8  1083042581745975297 2019-01-09 16:47:28  Sprinklr      1    0  \n",
       "9  1083029849349021699 2019-01-09 15:56:52  Sprinklr      0    0  "
      ]
     },
     "metadata": {},
     "output_type": "display_data"
    }
   ],
   "source": [
    "# We add relevant data:\n",
    "data['len']  = np.array([len(tweet.text) for tweet in tweets])\n",
    "data['ID']   = np.array([tweet.id for tweet in tweets])\n",
    "data['Date'] = np.array([tweet.created_at for tweet in tweets])\n",
    "data['Source'] = np.array([tweet.source for tweet in tweets])\n",
    "data['Likes']  = np.array([tweet.favorite_count for tweet in tweets])\n",
    "data['RTs']    = np.array([tweet.retweet_count for tweet in tweets])\n",
    "# Display of first 10 elements from dataframe:\n",
    "display(data.head(10))"
   ]
  },
  {
   "cell_type": "markdown",
   "metadata": {},
   "source": [
    "### Visualization and basic statistics"
   ]
  },
  {
   "cell_type": "code",
   "execution_count": 43,
   "metadata": {
    "ExecuteTime": {
     "end_time": "2019-01-10T15:21:20.037021Z",
     "start_time": "2019-01-10T15:21:20.015800Z"
    }
   },
   "outputs": [
    {
     "name": "stdout",
     "output_type": "stream",
     "text": [
      "The lenght's average in tweets: 124.785\n"
     ]
    }
   ],
   "source": [
    "# We extract the mean of lenghts:\n",
    "mean = np.mean(data['len'])\n",
    "\n",
    "print(\"The lenght's average in tweets: {}\".format(mean))"
   ]
  },
  {
   "cell_type": "code",
   "execution_count": 44,
   "metadata": {
    "ExecuteTime": {
     "end_time": "2019-01-10T15:21:20.049156Z",
     "start_time": "2019-01-10T15:21:20.042282Z"
    }
   },
   "outputs": [],
   "source": [
    "# We create time series for data:\n",
    "\n",
    "tlen = pd.Series(data=data['len'].values, index=data['Date'])\n",
    "tfav = pd.Series(data=data['Likes'].values, index=data['Date'])\n",
    "tret = pd.Series(data=data['RTs'].values, index=data['Date'])"
   ]
  },
  {
   "cell_type": "code",
   "execution_count": 45,
   "metadata": {
    "ExecuteTime": {
     "end_time": "2019-01-10T15:21:20.394535Z",
     "start_time": "2019-01-10T15:21:20.052318Z"
    }
   },
   "outputs": [
    {
     "data": {
      "image/png": "[encoded data removed]",
      "text/plain": [
       "<Figure size 1152x288 with 1 Axes>"
      ]
     },
     "metadata": {
      "needs_background": "light"
     },
     "output_type": "display_data"
    }
   ],
   "source": [
    "# Lenghts along time:\n",
    "tlen.plot(figsize=(16,4), color='r');\n"
   ]
  },
  {
   "cell_type": "code",
   "execution_count": 46,
   "metadata": {
    "ExecuteTime": {
     "end_time": "2019-01-10T15:21:20.703920Z",
     "start_time": "2019-01-10T15:21:20.398127Z"
    }
   },
   "outputs": [
    {
     "data": {
      "image/png": "[encoded data removed]",
      "text/plain": [
       "<Figure size 1152x288 with 1 Axes>"
      ]
     },
     "metadata": {
      "needs_background": "light"
     },
     "output_type": "display_data"
    }
   ],
   "source": [
    "# Likes vs retweets visualization:\n",
    "tfav.plot(figsize=(16,4), label=\"Likes\", legend=True)\n",
    "tret.plot(figsize=(16,4), label=\"Retweets\", legend=True);\n"
   ]
  },
  {
   "cell_type": "markdown",
   "metadata": {},
   "source": [
    "### Sentimental Analysis"
   ]
  },
  {
   "cell_type": "code",
   "execution_count": 47,
   "metadata": {
    "ExecuteTime": {
     "end_time": "2019-01-10T15:21:20.716287Z",
     "start_time": "2019-01-10T15:21:20.706565Z"
    }
   },
   "outputs": [],
   "source": [
    "from textblob import TextBlob\n",
    "import re\n",
    "\n",
    "def clean_tweet(tweet):\n",
    "    '''\n",
    "    Utility function to clean the text in a tweet by removing \n",
    "    links and special characters using regex.\n",
    "    '''\n",
    "    return ' '.join(re.sub(\"(@[A-Za-z0-9]+)|([^0-9A-Za-z \\t])|(\\w+:\\/\\/\\S+)\", \" \", tweet).split())\n",
    "\n",
    "def analize_sentiment(tweet):\n",
    "    '''\n",
    "    Utility function to classify the polarity of a tweet\n",
    "    using textblob.\n",
    "    '''\n",
    "    analysis = TextBlob(clean_tweet(tweet))\n",
    "    if analysis.sentiment.polarity > 0:\n",
    "        return 1\n",
    "    elif analysis.sentiment.polarity == 0:\n",
    "        return 0\n",
    "    else:\n",
    "        return -1"
   ]
  },
  {
   "cell_type": "code",
   "execution_count": 48,
   "metadata": {
    "ExecuteTime": {
     "end_time": "2019-01-10T15:21:20.869775Z",
     "start_time": "2019-01-10T15:21:20.718804Z"
    }
   },
   "outputs": [
    {
     "data": {
      "text/html": [
       "<div>\n",
       "<style scoped>\n",
       "    .dataframe tbody tr th:only-of-type {\n",
       "        vertical-align: middle;\n",
       "    }\n",
       "\n",
       "    .dataframe tbody tr th {\n",
       "        vertical-align: top;\n",
       "    }\n",
       "\n",
       "    .dataframe thead th {\n",
       "        text-align: right;\n",
       "    }\n",
       "</style>\n",
       "<table border=\"1\" class=\"dataframe\">\n",
       "  <thead>\n",
       "    <tr style=\"text-align: right;\">\n",
       "      <th></th>\n",
       "      <th>Tweets</th>\n",
       "      <th>len</th>\n",
       "      <th>ID</th>\n",
       "      <th>Date</th>\n",
       "      <th>Source</th>\n",
       "      <th>Likes</th>\n",
       "      <th>RTs</th>\n",
       "      <th>SA</th>\n",
       "    </tr>\n",
       "  </thead>\n",
       "  <tbody>\n",
       "    <tr>\n",
       "      <th>0</th>\n",
       "      <td>@besenthil Hello! There are a variety of resou...</td>\n",
       "      <td>131</td>\n",
       "      <td>1083382859522555905</td>\n",
       "      <td>2019-01-10 15:19:36</td>\n",
       "      <td>Sprinklr</td>\n",
       "      <td>0</td>\n",
       "      <td>0</td>\n",
       "      <td>1</td>\n",
       "    </tr>\n",
       "    <tr>\n",
       "      <th>1</th>\n",
       "      <td>@marcteerlink We're glad to hear that you foun...</td>\n",
       "      <td>137</td>\n",
       "      <td>1083379567539208192</td>\n",
       "      <td>2019-01-10 15:06:31</td>\n",
       "      <td>Sprinklr</td>\n",
       "      <td>1</td>\n",
       "      <td>0</td>\n",
       "      <td>1</td>\n",
       "    </tr>\n",
       "    <tr>\n",
       "      <th>2</th>\n",
       "      <td>Customer experiences power retail consumers' p...</td>\n",
       "      <td>140</td>\n",
       "      <td>1083368445650059264</td>\n",
       "      <td>2019-01-10 14:22:20</td>\n",
       "      <td>Sprinklr</td>\n",
       "      <td>5</td>\n",
       "      <td>1</td>\n",
       "      <td>1</td>\n",
       "    </tr>\n",
       "    <tr>\n",
       "      <th>3</th>\n",
       "      <td>We’re bringing new functionalities to the ente...</td>\n",
       "      <td>140</td>\n",
       "      <td>1083297746050867200</td>\n",
       "      <td>2019-01-10 09:41:24</td>\n",
       "      <td>Sprinklr</td>\n",
       "      <td>13</td>\n",
       "      <td>3</td>\n",
       "      <td>1</td>\n",
       "    </tr>\n",
       "    <tr>\n",
       "      <th>4</th>\n",
       "      <td>VP of @SAP_designs instructs us to combine two...</td>\n",
       "      <td>140</td>\n",
       "      <td>1083202404953264128</td>\n",
       "      <td>2019-01-10 03:22:32</td>\n",
       "      <td>Sprinklr</td>\n",
       "      <td>9</td>\n",
       "      <td>3</td>\n",
       "      <td>0</td>\n",
       "    </tr>\n",
       "    <tr>\n",
       "      <th>5</th>\n",
       "      <td>12 predictions that can impact you and your bu...</td>\n",
       "      <td>120</td>\n",
       "      <td>1083106673097691138</td>\n",
       "      <td>2019-01-09 21:02:08</td>\n",
       "      <td>Sprinklr</td>\n",
       "      <td>10</td>\n",
       "      <td>6</td>\n",
       "      <td>0</td>\n",
       "    </tr>\n",
       "    <tr>\n",
       "      <th>6</th>\n",
       "      <td>Sometimes it’s as simple as embedding intellig...</td>\n",
       "      <td>140</td>\n",
       "      <td>1083046243289497600</td>\n",
       "      <td>2019-01-09 17:02:01</td>\n",
       "      <td>Sprinklr</td>\n",
       "      <td>9</td>\n",
       "      <td>1</td>\n",
       "      <td>0</td>\n",
       "    </tr>\n",
       "    <tr>\n",
       "      <th>7</th>\n",
       "      <td>@justinemoran95 Nice photo! Inspiration from t...</td>\n",
       "      <td>101</td>\n",
       "      <td>1083043474361012225</td>\n",
       "      <td>2019-01-09 16:51:00</td>\n",
       "      <td>Sprinklr</td>\n",
       "      <td>1</td>\n",
       "      <td>0</td>\n",
       "      <td>1</td>\n",
       "    </tr>\n",
       "    <tr>\n",
       "      <th>8</th>\n",
       "      <td>@brianmoran Thanks for the shout out! Our winn...</td>\n",
       "      <td>138</td>\n",
       "      <td>1083042581745975297</td>\n",
       "      <td>2019-01-09 16:47:28</td>\n",
       "      <td>Sprinklr</td>\n",
       "      <td>1</td>\n",
       "      <td>0</td>\n",
       "      <td>1</td>\n",
       "    </tr>\n",
       "    <tr>\n",
       "      <th>9</th>\n",
       "      <td>@markgibbs_china Agree -- this is terrific new...</td>\n",
       "      <td>140</td>\n",
       "      <td>1083029849349021699</td>\n",
       "      <td>2019-01-09 15:56:52</td>\n",
       "      <td>Sprinklr</td>\n",
       "      <td>0</td>\n",
       "      <td>0</td>\n",
       "      <td>1</td>\n",
       "    </tr>\n",
       "  </tbody>\n",
       "</table>\n",
       "</div>"
      ],
      "text/plain": [
       "                                              Tweets  len  \\\n",
       "0  @besenthil Hello! There are a variety of resou...  131   \n",
       "1  @marcteerlink We're glad to hear that you foun...  137   \n",
       "2  Customer experiences power retail consumers' p...  140   \n",
       "3  We’re bringing new functionalities to the ente...  140   \n",
       "4  VP of @SAP_designs instructs us to combine two...  140   \n",
       "5  12 predictions that can impact you and your bu...  120   \n",
       "6  Sometimes it’s as simple as embedding intellig...  140   \n",
       "7  @justinemoran95 Nice photo! Inspiration from t...  101   \n",
       "8  @brianmoran Thanks for the shout out! Our winn...  138   \n",
       "9  @markgibbs_china Agree -- this is terrific new...  140   \n",
       "\n",
       "                    ID                Date    Source  Likes  RTs  SA  \n",
       "0  1083382859522555905 2019-01-10 15:19:36  Sprinklr      0    0   1  \n",
       "1  1083379567539208192 2019-01-10 15:06:31  Sprinklr      1    0   1  \n",
       "2  1083368445650059264 2019-01-10 14:22:20  Sprinklr      5    1   1  \n",
       "3  1083297746050867200 2019-01-10 09:41:24  Sprinklr     13    3   1  \n",
       "4  1083202404953264128 2019-01-10 03:22:32  Sprinklr      9    3   0  \n",
       "5  1083106673097691138 2019-01-09 21:02:08  Sprinklr     10    6   0  \n",
       "6  1083046243289497600 2019-01-09 17:02:01  Sprinklr      9    1   0  \n",
       "7  1083043474361012225 2019-01-09 16:51:00  Sprinklr      1    0   1  \n",
       "8  1083042581745975297 2019-01-09 16:47:28  Sprinklr      1    0   1  \n",
       "9  1083029849349021699 2019-01-09 15:56:52  Sprinklr      0    0   1  "
      ]
     },
     "metadata": {},
     "output_type": "display_data"
    }
   ],
   "source": [
    "# We create a column with the result of the analysis:\n",
    "data['SA'] = np.array([ analize_sentiment(tweet) for tweet in data['Tweets'] ])\n",
    "\n",
    "# We display the updated dataframe with the new column:\n",
    "display(data.head(10))"
   ]
  },
  {
   "cell_type": "code",
   "execution_count": 49,
   "metadata": {
    "ExecuteTime": {
     "end_time": "2019-01-10T15:21:20.890157Z",
     "start_time": "2019-01-10T15:21:20.872390Z"
    }
   },
   "outputs": [
    {
     "name": "stdout",
     "output_type": "stream",
     "text": [
      "Percentage of positive tweets: 72.0%\n",
      "Percentage of neutral tweets: 27.0%\n",
      "Percentage de negative tweets: 1.0%\n"
     ]
    }
   ],
   "source": [
    "# We construct lists with classified tweets:\n",
    "\n",
    "pos_tweets = [ tweet for index, tweet in enumerate(data['Tweets']) if data['SA'][index] > 0]\n",
    "neu_tweets = [ tweet for index, tweet in enumerate(data['Tweets']) if data['SA'][index] == 0]\n",
    "neg_tweets = [ tweet for index, tweet in enumerate(data['Tweets']) if data['SA'][index] < 0]\n",
    "\n",
    "# We print percentages:\n",
    "\n",
    "print(\"Percentage of positive tweets: {}%\".format(len(pos_tweets)*100/len(data['Tweets'])))\n",
    "print(\"Percentage of neutral tweets: {}%\".format(len(neu_tweets)*100/len(data['Tweets'])))\n",
    "print(\"Percentage de negative tweets: {}%\".format(len(neg_tweets)*100/len(data['Tweets'])))"
   ]
  },
  {
   "cell_type": "code",
   "execution_count": null,
   "metadata": {},
   "outputs": [],
   "source": []
  }
 ],
 "metadata": {
  "hide_input": false,
  "kernelspec": {
   "display_name": "Python 3",
   "language": "python",
   "name": "python3"
  },
  "language_info": {
   "codemirror_mode": {
    "name": "ipython",
    "version": 3
   },
   "file_extension": ".py",
   "mimetype": "text/x-python",
   "name": "python",
   "nbconvert_exporter": "python",
   "pygments_lexer": "ipython3",
   "version": "3.6.7"
  },
  "toc": {
   "base_numbering": 1,
   "nav_menu": {},
   "number_sections": true,
   "sideBar": true,
   "skip_h1_title": false,
   "title_cell": "Table of Contents",
   "title_sidebar": "Contents",
   "toc_cell": false,
   "toc_position": {},
   "toc_section_display": true,
   "toc_window_display": false
  },
  "varInspector": {
   "cols": {
    "lenName": 16,
    "lenType": 16,
    "lenVar": 40
   },
   "kernels_config": {
    "python": {
     "delete_cmd_postfix": "",
     "delete_cmd_prefix": "del ",
     "library": "var_list.py",
     "varRefreshCmd": "print(var_dic_list())"
    },
    "r": {
     "delete_cmd_postfix": ") ",
     "delete_cmd_prefix": "rm(",
     "library": "var_list.r",
     "varRefreshCmd": "cat(var_dic_list()) "
    }
   },
   "types_to_exclude": [
    "module",
    "function",
    "builtin_function_or_method",
    "instance",
    "_Feature"
   ],
   "window_display": false
  }
 },
 "nbformat": 4,
 "nbformat_minor": 2
}
