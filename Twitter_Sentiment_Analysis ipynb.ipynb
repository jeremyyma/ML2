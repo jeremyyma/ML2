{
 "cells": [
  {
   "cell_type": "markdown",
   "metadata": {},
   "source": [
    "## Twitter Sentiment Analysis\n",
    "Determining whether a piece of writing is positive, negative or neutral. It’s also known as opinion mining, deriving the opinion or attitude of a speaker.\n",
    "\n",
    "conda install -n py36 -c conda-forge tweepy\n",
    "conda install -n py36 -c conda-forge textblob\n"
   ]
  },
  {
   "cell_type": "code",
   "execution_count": 29,
   "metadata": {
    "ExecuteTime": {
     "end_time": "2019-01-13T23:09:41.425561Z",
     "start_time": "2019-01-13T23:09:41.383211Z"
    }
   },
   "outputs": [],
   "source": [
    "import tweepy           # To consume Twitter's API\n",
    "import pandas as pd     # To handle data\n",
    "import numpy as np      # For number computing\n",
    "\n",
    "# For plotting and visualization:\n",
    "from IPython.display import display\n",
    "import matplotlib.pyplot as plt\n",
    "import seaborn as sns\n",
    "%matplotlib inline"
   ]
  },
  {
   "cell_type": "code",
   "execution_count": 35,
   "metadata": {
    "ExecuteTime": {
     "end_time": "2019-01-13T23:14:56.596395Z",
     "start_time": "2019-01-13T23:14:56.588592Z"
    }
   },
   "outputs": [],
   "source": [
    "# We import our access keys:\n",
    "from keys.twitter_keys import *    # This will allow us to use the keys as variables\n",
    "\n",
    "# We import our access keys:\n",
    "# optional from credentials import *    # This will allow us to use the keys as variables\n",
    "\n",
    "# API's setup:\n",
    "def twitter_setup():\n",
    "    \"\"\"\n",
    "    Utility function to setup the Twitter's API\n",
    "    with our access keys provided.\n",
    "    \"\"\"\n",
    "    # Authentication and access using keys:\n",
    "    auth = tweepy.OAuthHandler(CONSUMER_KEY, CONSUMER_SECRET)\n",
    "    auth.set_access_token(ACCESS_TOKEN, ACCESS_SECRET)\n",
    "\n",
    "    # Return API with authentication:\n",
    "    api = tweepy.API(auth)\n",
    "    return api\n"
   ]
  },
  {
   "cell_type": "markdown",
   "metadata": {},
   "source": [
    "Code for extracting from Twitter"
   ]
  },
  {
   "cell_type": "code",
   "execution_count": 17,
   "metadata": {
    "ExecuteTime": {
     "end_time": "2019-01-11T03:19:26.416017Z",
     "start_time": "2019-01-11T03:19:25.615035Z"
    },
    "scrolled": true
   },
   "outputs": [
    {
     "name": "stdout",
     "output_type": "stream",
     "text": [
      "Number of tweets extracted: 200.\n",
      "\n",
      "5 recent tweets:\n",
      "\n",
      "Jayme Closs, the Wisconsin teen who vanished after her parents were killed, has been found alive nearly 3 months la… https://t.co/LX38GsE1UU\n",
      "\n",
      "US begins withdrawing some military equipment from Syria https://t.co/CVRB9rMfol https://t.co/7oPcyCUB6V\n",
      "\n",
      "Border wall funds could be diverted from a pool meant for Puerto Rico, Texas and other areas hit by disasters if Tr… https://t.co/T7RE6vjuOP\n",
      "\n",
      "House passes bills to reopen the Agriculture and Transportation departments https://t.co/tq89I4B9A0 https://t.co/4VbGNBJFCG\n",
      "\n",
      "As Mueller wraps up his probe, investigators focus on conflicting Trump statements that could be seen as an effort… https://t.co/sE3HI9ONZD\n",
      "\n"
     ]
    }
   ],
   "source": [
    "# We create an extractor object:\n",
    "extractor = twitter_setup()\n",
    "\n",
    "# We create a tweet list as follows:\n",
    "# tweets = extractor.user_timeline(screen_name=\"realDonaldTrump\", count=200)\n",
    "\n",
    "## search by hashtab\n",
    "tweets = extractor.user_timeline(screen_name=\"cnnbrk\", count=500) \n",
    "\n",
    "print(\"Number of tweets extracted: {}.\\n\".format(len(tweets)))\n",
    "\n",
    "# We print the most recent 5 tweets:\n",
    "print(\"5 recent tweets:\\n\")\n",
    "for tweet in tweets[:5]:\n",
    "    print(tweet.text)\n",
    "    print()"
   ]
  },
  {
   "cell_type": "markdown",
   "metadata": {},
   "source": [
    "#### Creating a (pandas) DataFrame"
   ]
  },
  {
   "cell_type": "code",
   "execution_count": 18,
   "metadata": {
    "ExecuteTime": {
     "end_time": "2019-01-11T03:19:26.458780Z",
     "start_time": "2019-01-11T03:19:26.428947Z"
    }
   },
   "outputs": [
    {
     "data": {
      "text/html": [
       "<div>\n",
       "<style scoped>\n",
       "    .dataframe tbody tr th:only-of-type {\n",
       "        vertical-align: middle;\n",
       "    }\n",
       "\n",
       "    .dataframe tbody tr th {\n",
       "        vertical-align: top;\n",
       "    }\n",
       "\n",
       "    .dataframe thead th {\n",
       "        text-align: right;\n",
       "    }\n",
       "</style>\n",
       "<table border=\"1\" class=\"dataframe\">\n",
       "  <thead>\n",
       "    <tr style=\"text-align: right;\">\n",
       "      <th></th>\n",
       "      <th>Tweets</th>\n",
       "    </tr>\n",
       "  </thead>\n",
       "  <tbody>\n",
       "    <tr>\n",
       "      <th>0</th>\n",
       "      <td>Jayme Closs, the Wisconsin teen who vanished a...</td>\n",
       "    </tr>\n",
       "    <tr>\n",
       "      <th>1</th>\n",
       "      <td>US begins withdrawing some military equipment ...</td>\n",
       "    </tr>\n",
       "    <tr>\n",
       "      <th>2</th>\n",
       "      <td>Border wall funds could be diverted from a poo...</td>\n",
       "    </tr>\n",
       "    <tr>\n",
       "      <th>3</th>\n",
       "      <td>House passes bills to reopen the Agriculture a...</td>\n",
       "    </tr>\n",
       "    <tr>\n",
       "      <th>4</th>\n",
       "      <td>As Mueller wraps up his probe, investigators f...</td>\n",
       "    </tr>\n",
       "    <tr>\n",
       "      <th>5</th>\n",
       "      <td>Ex-Trump lawyer Michael Cohen has agreed to te...</td>\n",
       "    </tr>\n",
       "    <tr>\n",
       "      <th>6</th>\n",
       "      <td>President Trump is headed to McAllen, Texas, t...</td>\n",
       "    </tr>\n",
       "    <tr>\n",
       "      <th>7</th>\n",
       "      <td>Hours before 32,000 educators were set to walk...</td>\n",
       "    </tr>\n",
       "    <tr>\n",
       "      <th>8</th>\n",
       "      <td>President Trump says he has an \"absolute right...</td>\n",
       "    </tr>\n",
       "    <tr>\n",
       "      <th>9</th>\n",
       "      <td>Ex-Nissan chairman Carlos Ghosn has fallen ill...</td>\n",
       "    </tr>\n",
       "  </tbody>\n",
       "</table>\n",
       "</div>"
      ],
      "text/plain": [
       "                                              Tweets\n",
       "0  Jayme Closs, the Wisconsin teen who vanished a...\n",
       "1  US begins withdrawing some military equipment ...\n",
       "2  Border wall funds could be diverted from a poo...\n",
       "3  House passes bills to reopen the Agriculture a...\n",
       "4  As Mueller wraps up his probe, investigators f...\n",
       "5  Ex-Trump lawyer Michael Cohen has agreed to te...\n",
       "6  President Trump is headed to McAllen, Texas, t...\n",
       "7  Hours before 32,000 educators were set to walk...\n",
       "8  President Trump says he has an \"absolute right...\n",
       "9  Ex-Nissan chairman Carlos Ghosn has fallen ill..."
      ]
     },
     "metadata": {},
     "output_type": "display_data"
    }
   ],
   "source": [
    "# We create a pandas dataframe as follows:\n",
    "data = pd.DataFrame(data=[tweet.text for tweet in tweets], columns=['Tweets'])\n",
    "\n",
    "# We display the first 10 elements of the dataframe:\n",
    "display(data.head(10))"
   ]
  },
  {
   "cell_type": "code",
   "execution_count": 19,
   "metadata": {
    "ExecuteTime": {
     "end_time": "2019-01-11T03:19:26.490515Z",
     "start_time": "2019-01-11T03:19:26.463565Z"
    }
   },
   "outputs": [
    {
     "name": "stdout",
     "output_type": "stream",
     "text": [
      "['__class__', '__delattr__', '__dict__', '__dir__', '__doc__', '__eq__', '__format__', '__ge__', '__getattribute__', '__getstate__', '__gt__', '__hash__', '__init__', '__init_subclass__', '__le__', '__lt__', '__module__', '__ne__', '__new__', '__reduce__', '__reduce_ex__', '__repr__', '__setattr__', '__sizeof__', '__str__', '__subclasshook__', '__weakref__', '_api', '_json', 'author', 'contributors', 'coordinates', 'created_at', 'destroy', 'entities', 'favorite', 'favorite_count', 'favorited', 'geo', 'id', 'id_str', 'in_reply_to_screen_name', 'in_reply_to_status_id', 'in_reply_to_status_id_str', 'in_reply_to_user_id', 'in_reply_to_user_id_str', 'is_quote_status', 'lang', 'parse', 'parse_list', 'place', 'possibly_sensitive', 'retweet', 'retweet_count', 'retweeted', 'retweets', 'source', 'source_url', 'text', 'truncated', 'user']\n"
     ]
    }
   ],
   "source": [
    "# Internal methods of a single tweet object:\n",
    "print(dir(tweets[0]))"
   ]
  },
  {
   "cell_type": "code",
   "execution_count": 20,
   "metadata": {
    "ExecuteTime": {
     "end_time": "2019-01-11T03:19:26.571730Z",
     "start_time": "2019-01-11T03:19:26.510789Z"
    }
   },
   "outputs": [
    {
     "name": "stdout",
     "output_type": "stream",
     "text": [
      "1083558116892049410\n",
      "2019-01-11 02:56:01\n",
      "Twitter Web Client\n",
      "742\n",
      "203\n",
      "None\n",
      "None\n",
      "{'hashtags': [], 'symbols': [], 'user_mentions': [], 'urls': [{'url': 'https://t.co/LX38GsE1UU', 'expanded_url': 'https://twitter.com/i/web/status/1083558116892049410', 'display_url': 'twitter.com/i/web/status/1…', 'indices': [117, 140]}]}\n"
     ]
    }
   ],
   "source": [
    "# We print info from the first tweet:\n",
    "print(tweets[0].id)\n",
    "print(tweets[0].created_at)\n",
    "print(tweets[0].source)\n",
    "print(tweets[0].favorite_count)\n",
    "print(tweets[0].retweet_count)\n",
    "print(tweets[0].geo)\n",
    "print(tweets[0].coordinates)\n",
    "print(tweets[0].entities)"
   ]
  },
  {
   "cell_type": "code",
   "execution_count": 21,
   "metadata": {
    "ExecuteTime": {
     "end_time": "2019-01-11T03:19:26.636603Z",
     "start_time": "2019-01-11T03:19:26.579024Z"
    }
   },
   "outputs": [
    {
     "data": {
      "text/html": [
       "<div>\n",
       "<style scoped>\n",
       "    .dataframe tbody tr th:only-of-type {\n",
       "        vertical-align: middle;\n",
       "    }\n",
       "\n",
       "    .dataframe tbody tr th {\n",
       "        vertical-align: top;\n",
       "    }\n",
       "\n",
       "    .dataframe thead th {\n",
       "        text-align: right;\n",
       "    }\n",
       "</style>\n",
       "<table border=\"1\" class=\"dataframe\">\n",
       "  <thead>\n",
       "    <tr style=\"text-align: right;\">\n",
       "      <th></th>\n",
       "      <th>Tweets</th>\n",
       "      <th>len</th>\n",
       "      <th>ID</th>\n",
       "      <th>Date</th>\n",
       "      <th>Source</th>\n",
       "      <th>Likes</th>\n",
       "      <th>RTs</th>\n",
       "    </tr>\n",
       "  </thead>\n",
       "  <tbody>\n",
       "    <tr>\n",
       "      <th>0</th>\n",
       "      <td>Jayme Closs, the Wisconsin teen who vanished a...</td>\n",
       "      <td>140</td>\n",
       "      <td>1083558116892049410</td>\n",
       "      <td>2019-01-11 02:56:01</td>\n",
       "      <td>Twitter Web Client</td>\n",
       "      <td>742</td>\n",
       "      <td>203</td>\n",
       "    </tr>\n",
       "    <tr>\n",
       "      <th>1</th>\n",
       "      <td>US begins withdrawing some military equipment ...</td>\n",
       "      <td>104</td>\n",
       "      <td>1083517337981149184</td>\n",
       "      <td>2019-01-11 00:13:58</td>\n",
       "      <td>Twitter Web Client</td>\n",
       "      <td>200</td>\n",
       "      <td>93</td>\n",
       "    </tr>\n",
       "    <tr>\n",
       "      <th>2</th>\n",
       "      <td>Border wall funds could be diverted from a poo...</td>\n",
       "      <td>140</td>\n",
       "      <td>1083501510695124992</td>\n",
       "      <td>2019-01-10 23:11:05</td>\n",
       "      <td>Twitter Web Client</td>\n",
       "      <td>847</td>\n",
       "      <td>766</td>\n",
       "    </tr>\n",
       "    <tr>\n",
       "      <th>3</th>\n",
       "      <td>House passes bills to reopen the Agriculture a...</td>\n",
       "      <td>123</td>\n",
       "      <td>1083495243868196864</td>\n",
       "      <td>2019-01-10 22:46:11</td>\n",
       "      <td>Twitter Web Client</td>\n",
       "      <td>589</td>\n",
       "      <td>149</td>\n",
       "    </tr>\n",
       "    <tr>\n",
       "      <th>4</th>\n",
       "      <td>As Mueller wraps up his probe, investigators f...</td>\n",
       "      <td>139</td>\n",
       "      <td>1083485404169494534</td>\n",
       "      <td>2019-01-10 22:07:05</td>\n",
       "      <td>Twitter Web Client</td>\n",
       "      <td>688</td>\n",
       "      <td>196</td>\n",
       "    </tr>\n",
       "    <tr>\n",
       "      <th>5</th>\n",
       "      <td>Ex-Trump lawyer Michael Cohen has agreed to te...</td>\n",
       "      <td>140</td>\n",
       "      <td>1083458625358708737</td>\n",
       "      <td>2019-01-10 20:20:40</td>\n",
       "      <td>TweetDeck</td>\n",
       "      <td>2922</td>\n",
       "      <td>823</td>\n",
       "    </tr>\n",
       "    <tr>\n",
       "      <th>6</th>\n",
       "      <td>President Trump is headed to McAllen, Texas, t...</td>\n",
       "      <td>140</td>\n",
       "      <td>1083430989366521856</td>\n",
       "      <td>2019-01-10 18:30:51</td>\n",
       "      <td>TweetDeck</td>\n",
       "      <td>351</td>\n",
       "      <td>88</td>\n",
       "    </tr>\n",
       "    <tr>\n",
       "      <th>7</th>\n",
       "      <td>Hours before 32,000 educators were set to walk...</td>\n",
       "      <td>140</td>\n",
       "      <td>1083410261409779712</td>\n",
       "      <td>2019-01-10 17:08:29</td>\n",
       "      <td>TweetDeck</td>\n",
       "      <td>161</td>\n",
       "      <td>65</td>\n",
       "    </tr>\n",
       "    <tr>\n",
       "      <th>8</th>\n",
       "      <td>President Trump says he has an \"absolute right...</td>\n",
       "      <td>140</td>\n",
       "      <td>1083383421215346688</td>\n",
       "      <td>2019-01-10 15:21:50</td>\n",
       "      <td>TweetDeck</td>\n",
       "      <td>362</td>\n",
       "      <td>110</td>\n",
       "    </tr>\n",
       "    <tr>\n",
       "      <th>9</th>\n",
       "      <td>Ex-Nissan chairman Carlos Ghosn has fallen ill...</td>\n",
       "      <td>140</td>\n",
       "      <td>1083376514551480320</td>\n",
       "      <td>2019-01-10 14:54:23</td>\n",
       "      <td>TweetDeck</td>\n",
       "      <td>151</td>\n",
       "      <td>86</td>\n",
       "    </tr>\n",
       "  </tbody>\n",
       "</table>\n",
       "</div>"
      ],
      "text/plain": [
       "                                              Tweets  len  \\\n",
       "0  Jayme Closs, the Wisconsin teen who vanished a...  140   \n",
       "1  US begins withdrawing some military equipment ...  104   \n",
       "2  Border wall funds could be diverted from a poo...  140   \n",
       "3  House passes bills to reopen the Agriculture a...  123   \n",
       "4  As Mueller wraps up his probe, investigators f...  139   \n",
       "5  Ex-Trump lawyer Michael Cohen has agreed to te...  140   \n",
       "6  President Trump is headed to McAllen, Texas, t...  140   \n",
       "7  Hours before 32,000 educators were set to walk...  140   \n",
       "8  President Trump says he has an \"absolute right...  140   \n",
       "9  Ex-Nissan chairman Carlos Ghosn has fallen ill...  140   \n",
       "\n",
       "                    ID                Date              Source  Likes  RTs  \n",
       "0  1083558116892049410 2019-01-11 02:56:01  Twitter Web Client    742  203  \n",
       "1  1083517337981149184 2019-01-11 00:13:58  Twitter Web Client    200   93  \n",
       "2  1083501510695124992 2019-01-10 23:11:05  Twitter Web Client    847  766  \n",
       "3  1083495243868196864 2019-01-10 22:46:11  Twitter Web Client    589  149  \n",
       "4  1083485404169494534 2019-01-10 22:07:05  Twitter Web Client    688  196  \n",
       "5  1083458625358708737 2019-01-10 20:20:40           TweetDeck   2922  823  \n",
       "6  1083430989366521856 2019-01-10 18:30:51           TweetDeck    351   88  \n",
       "7  1083410261409779712 2019-01-10 17:08:29           TweetDeck    161   65  \n",
       "8  1083383421215346688 2019-01-10 15:21:50           TweetDeck    362  110  \n",
       "9  1083376514551480320 2019-01-10 14:54:23           TweetDeck    151   86  "
      ]
     },
     "metadata": {},
     "output_type": "display_data"
    }
   ],
   "source": [
    "# We add relevant data:\n",
    "data['len']  = np.array([len(tweet.text) for tweet in tweets])\n",
    "data['ID']   = np.array([tweet.id for tweet in tweets])\n",
    "data['Date'] = np.array([tweet.created_at for tweet in tweets])\n",
    "data['Source'] = np.array([tweet.source for tweet in tweets])\n",
    "data['Likes']  = np.array([tweet.favorite_count for tweet in tweets])\n",
    "data['RTs']    = np.array([tweet.retweet_count for tweet in tweets])\n",
    "# Display of first 10 elements from dataframe:\n",
    "display(data.head(10))"
   ]
  },
  {
   "cell_type": "markdown",
   "metadata": {},
   "source": [
    "### Visualization and basic statistics"
   ]
  },
  {
   "cell_type": "code",
   "execution_count": 22,
   "metadata": {
    "ExecuteTime": {
     "end_time": "2019-01-11T03:19:26.648950Z",
     "start_time": "2019-01-11T03:19:26.639894Z"
    }
   },
   "outputs": [
    {
     "name": "stdout",
     "output_type": "stream",
     "text": [
      "The lenght's average in tweets: 136.47\n"
     ]
    }
   ],
   "source": [
    "# We extract the mean of lenghts:\n",
    "mean = np.mean(data['len'])\n",
    "\n",
    "print(\"The lenght's average in tweets: {}\".format(mean))"
   ]
  },
  {
   "cell_type": "code",
   "execution_count": 23,
   "metadata": {
    "ExecuteTime": {
     "end_time": "2019-01-11T03:19:26.662142Z",
     "start_time": "2019-01-11T03:19:26.653508Z"
    }
   },
   "outputs": [],
   "source": [
    "# We create time series for data:\n",
    "\n",
    "tlen = pd.Series(data=data['len'].values, index=data['Date'])\n",
    "tfav = pd.Series(data=data['Likes'].values, index=data['Date'])\n",
    "tret = pd.Series(data=data['RTs'].values, index=data['Date'])"
   ]
  },
  {
   "cell_type": "code",
   "execution_count": 24,
   "metadata": {
    "ExecuteTime": {
     "end_time": "2019-01-11T03:19:27.099385Z",
     "start_time": "2019-01-11T03:19:26.668586Z"
    }
   },
   "outputs": [
    {
     "data": {
      "image/png": "[encoded data removed]",
      "text/plain": [
       "<Figure size 1152x288 with 1 Axes>"
      ]
     },
     "metadata": {
      "needs_background": "light"
     },
     "output_type": "display_data"
    }
   ],
   "source": [
    "# Lenghts along time:\n",
    "tlen.plot(figsize=(16,4), color='r');\n"
   ]
  },
  {
   "cell_type": "code",
   "execution_count": 25,
   "metadata": {
    "ExecuteTime": {
     "end_time": "2019-01-11T03:19:27.455166Z",
     "start_time": "2019-01-11T03:19:27.102113Z"
    }
   },
   "outputs": [
    {
     "data": {
      "image/png": "[encoded data removed]",
      "text/plain": [
       "<Figure size 1152x288 with 1 Axes>"
      ]
     },
     "metadata": {
      "needs_background": "light"
     },
     "output_type": "display_data"
    }
   ],
   "source": [
    "# Likes vs retweets visualization:\n",
    "tfav.plot(figsize=(16,4), label=\"Likes\", legend=True)\n",
    "tret.plot(figsize=(16,4), label=\"Retweets\", legend=True);\n"
   ]
  },
  {
   "cell_type": "markdown",
   "metadata": {},
   "source": [
    "### Sentimental Analysis"
   ]
  },
  {
   "cell_type": "code",
   "execution_count": 26,
   "metadata": {
    "ExecuteTime": {
     "end_time": "2019-01-11T03:19:27.466978Z",
     "start_time": "2019-01-11T03:19:27.458594Z"
    }
   },
   "outputs": [],
   "source": [
    "from textblob import TextBlob\n",
    "import re\n",
    "\n",
    "def clean_tweet(tweet):\n",
    "    '''\n",
    "    Utility function to clean the text in a tweet by removing \n",
    "    links and special characters using regex.\n",
    "    '''\n",
    "    return ' '.join(re.sub(\"(@[A-Za-z0-9]+)|([^0-9A-Za-z \\t])|(\\w+:\\/\\/\\S+)\", \" \", tweet).split())\n",
    "\n",
    "def analize_sentiment(tweet):\n",
    "    '''\n",
    "    Utility function to classify the polarity of a tweet\n",
    "    using textblob.\n",
    "    '''\n",
    "    analysis = TextBlob(clean_tweet(tweet))\n",
    "    if analysis.sentiment.polarity > 0:\n",
    "        return 1\n",
    "    elif analysis.sentiment.polarity == 0:\n",
    "        return 0\n",
    "    else:\n",
    "        return -1"
   ]
  },
  {
   "cell_type": "code",
   "execution_count": 27,
   "metadata": {
    "ExecuteTime": {
     "end_time": "2019-01-11T03:19:27.700789Z",
     "start_time": "2019-01-11T03:19:27.470264Z"
    }
   },
   "outputs": [
    {
     "data": {
      "text/html": [
       "<div>\n",
       "<style scoped>\n",
       "    .dataframe tbody tr th:only-of-type {\n",
       "        vertical-align: middle;\n",
       "    }\n",
       "\n",
       "    .dataframe tbody tr th {\n",
       "        vertical-align: top;\n",
       "    }\n",
       "\n",
       "    .dataframe thead th {\n",
       "        text-align: right;\n",
       "    }\n",
       "</style>\n",
       "<table border=\"1\" class=\"dataframe\">\n",
       "  <thead>\n",
       "    <tr style=\"text-align: right;\">\n",
       "      <th></th>\n",
       "      <th>Tweets</th>\n",
       "      <th>len</th>\n",
       "      <th>ID</th>\n",
       "      <th>Date</th>\n",
       "      <th>Source</th>\n",
       "      <th>Likes</th>\n",
       "      <th>RTs</th>\n",
       "      <th>SA</th>\n",
       "    </tr>\n",
       "  </thead>\n",
       "  <tbody>\n",
       "    <tr>\n",
       "      <th>0</th>\n",
       "      <td>Jayme Closs, the Wisconsin teen who vanished a...</td>\n",
       "      <td>140</td>\n",
       "      <td>1083558116892049410</td>\n",
       "      <td>2019-01-11 02:56:01</td>\n",
       "      <td>Twitter Web Client</td>\n",
       "      <td>742</td>\n",
       "      <td>203</td>\n",
       "      <td>0</td>\n",
       "    </tr>\n",
       "    <tr>\n",
       "      <th>1</th>\n",
       "      <td>US begins withdrawing some military equipment ...</td>\n",
       "      <td>104</td>\n",
       "      <td>1083517337981149184</td>\n",
       "      <td>2019-01-11 00:13:58</td>\n",
       "      <td>Twitter Web Client</td>\n",
       "      <td>200</td>\n",
       "      <td>93</td>\n",
       "      <td>-1</td>\n",
       "    </tr>\n",
       "    <tr>\n",
       "      <th>2</th>\n",
       "      <td>Border wall funds could be diverted from a poo...</td>\n",
       "      <td>140</td>\n",
       "      <td>1083501510695124992</td>\n",
       "      <td>2019-01-10 23:11:05</td>\n",
       "      <td>Twitter Web Client</td>\n",
       "      <td>847</td>\n",
       "      <td>766</td>\n",
       "      <td>-1</td>\n",
       "    </tr>\n",
       "    <tr>\n",
       "      <th>3</th>\n",
       "      <td>House passes bills to reopen the Agriculture a...</td>\n",
       "      <td>123</td>\n",
       "      <td>1083495243868196864</td>\n",
       "      <td>2019-01-10 22:46:11</td>\n",
       "      <td>Twitter Web Client</td>\n",
       "      <td>589</td>\n",
       "      <td>149</td>\n",
       "      <td>0</td>\n",
       "    </tr>\n",
       "    <tr>\n",
       "      <th>4</th>\n",
       "      <td>As Mueller wraps up his probe, investigators f...</td>\n",
       "      <td>139</td>\n",
       "      <td>1083485404169494534</td>\n",
       "      <td>2019-01-10 22:07:05</td>\n",
       "      <td>Twitter Web Client</td>\n",
       "      <td>688</td>\n",
       "      <td>196</td>\n",
       "      <td>0</td>\n",
       "    </tr>\n",
       "    <tr>\n",
       "      <th>5</th>\n",
       "      <td>Ex-Trump lawyer Michael Cohen has agreed to te...</td>\n",
       "      <td>140</td>\n",
       "      <td>1083458625358708737</td>\n",
       "      <td>2019-01-10 20:20:40</td>\n",
       "      <td>TweetDeck</td>\n",
       "      <td>2922</td>\n",
       "      <td>823</td>\n",
       "      <td>1</td>\n",
       "    </tr>\n",
       "    <tr>\n",
       "      <th>6</th>\n",
       "      <td>President Trump is headed to McAllen, Texas, t...</td>\n",
       "      <td>140</td>\n",
       "      <td>1083430989366521856</td>\n",
       "      <td>2019-01-10 18:30:51</td>\n",
       "      <td>TweetDeck</td>\n",
       "      <td>351</td>\n",
       "      <td>88</td>\n",
       "      <td>-1</td>\n",
       "    </tr>\n",
       "    <tr>\n",
       "      <th>7</th>\n",
       "      <td>Hours before 32,000 educators were set to walk...</td>\n",
       "      <td>140</td>\n",
       "      <td>1083410261409779712</td>\n",
       "      <td>2019-01-10 17:08:29</td>\n",
       "      <td>TweetDeck</td>\n",
       "      <td>161</td>\n",
       "      <td>65</td>\n",
       "      <td>0</td>\n",
       "    </tr>\n",
       "    <tr>\n",
       "      <th>8</th>\n",
       "      <td>President Trump says he has an \"absolute right...</td>\n",
       "      <td>140</td>\n",
       "      <td>1083383421215346688</td>\n",
       "      <td>2019-01-10 15:21:50</td>\n",
       "      <td>TweetDeck</td>\n",
       "      <td>362</td>\n",
       "      <td>110</td>\n",
       "      <td>1</td>\n",
       "    </tr>\n",
       "    <tr>\n",
       "      <th>9</th>\n",
       "      <td>Ex-Nissan chairman Carlos Ghosn has fallen ill...</td>\n",
       "      <td>140</td>\n",
       "      <td>1083376514551480320</td>\n",
       "      <td>2019-01-10 14:54:23</td>\n",
       "      <td>TweetDeck</td>\n",
       "      <td>151</td>\n",
       "      <td>86</td>\n",
       "      <td>-1</td>\n",
       "    </tr>\n",
       "  </tbody>\n",
       "</table>\n",
       "</div>"
      ],
      "text/plain": [
       "                                              Tweets  len  \\\n",
       "0  Jayme Closs, the Wisconsin teen who vanished a...  140   \n",
       "1  US begins withdrawing some military equipment ...  104   \n",
       "2  Border wall funds could be diverted from a poo...  140   \n",
       "3  House passes bills to reopen the Agriculture a...  123   \n",
       "4  As Mueller wraps up his probe, investigators f...  139   \n",
       "5  Ex-Trump lawyer Michael Cohen has agreed to te...  140   \n",
       "6  President Trump is headed to McAllen, Texas, t...  140   \n",
       "7  Hours before 32,000 educators were set to walk...  140   \n",
       "8  President Trump says he has an \"absolute right...  140   \n",
       "9  Ex-Nissan chairman Carlos Ghosn has fallen ill...  140   \n",
       "\n",
       "                    ID                Date              Source  Likes  RTs  SA  \n",
       "0  1083558116892049410 2019-01-11 02:56:01  Twitter Web Client    742  203   0  \n",
       "1  1083517337981149184 2019-01-11 00:13:58  Twitter Web Client    200   93  -1  \n",
       "2  1083501510695124992 2019-01-10 23:11:05  Twitter Web Client    847  766  -1  \n",
       "3  1083495243868196864 2019-01-10 22:46:11  Twitter Web Client    589  149   0  \n",
       "4  1083485404169494534 2019-01-10 22:07:05  Twitter Web Client    688  196   0  \n",
       "5  1083458625358708737 2019-01-10 20:20:40           TweetDeck   2922  823   1  \n",
       "6  1083430989366521856 2019-01-10 18:30:51           TweetDeck    351   88  -1  \n",
       "7  1083410261409779712 2019-01-10 17:08:29           TweetDeck    161   65   0  \n",
       "8  1083383421215346688 2019-01-10 15:21:50           TweetDeck    362  110   1  \n",
       "9  1083376514551480320 2019-01-10 14:54:23           TweetDeck    151   86  -1  "
      ]
     },
     "metadata": {},
     "output_type": "display_data"
    }
   ],
   "source": [
    "# We create a column with the result of the analysis:\n",
    "data['SA'] = np.array([ analize_sentiment(tweet) for tweet in data['Tweets'] ])\n",
    "\n",
    "# We display the updated dataframe with the new column:\n",
    "display(data.head(10))"
   ]
  },
  {
   "cell_type": "code",
   "execution_count": 28,
   "metadata": {
    "ExecuteTime": {
     "end_time": "2019-01-11T03:19:27.732001Z",
     "start_time": "2019-01-11T03:19:27.708330Z"
    }
   },
   "outputs": [
    {
     "name": "stdout",
     "output_type": "stream",
     "text": [
      "Percentage of positive tweets: 31.5%\n",
      "Percentage of neutral tweets: 40.0%\n",
      "Percentage de negative tweets: 28.5%\n"
     ]
    }
   ],
   "source": [
    "# We construct lists with classified tweets:\n",
    "\n",
    "pos_tweets = [ tweet for index, tweet in enumerate(data['Tweets']) if data['SA'][index] > 0]\n",
    "neu_tweets = [ tweet for index, tweet in enumerate(data['Tweets']) if data['SA'][index] == 0]\n",
    "neg_tweets = [ tweet for index, tweet in enumerate(data['Tweets']) if data['SA'][index] < 0]\n",
    "\n",
    "# We print percentages:\n",
    "\n",
    "print(\"Percentage of positive tweets: {}%\".format(len(pos_tweets)*100/len(data['Tweets'])))\n",
    "print(\"Percentage of neutral tweets: {}%\".format(len(neu_tweets)*100/len(data['Tweets'])))\n",
    "print(\"Percentage de negative tweets: {}%\".format(len(neg_tweets)*100/len(data['Tweets'])))"
   ]
  },
  {
   "cell_type": "code",
   "execution_count": null,
   "metadata": {},
   "outputs": [],
   "source": []
  }
 ],
 "metadata": {
  "hide_input": false,
  "kernelspec": {
   "display_name": "Python 3",
   "language": "python",
   "name": "python3"
  },
  "language_info": {
   "codemirror_mode": {
    "name": "ipython",
    "version": 3
   },
   "file_extension": ".py",
   "mimetype": "text/x-python",
   "name": "python",
   "nbconvert_exporter": "python",
   "pygments_lexer": "ipython3",
   "version": "3.6.7"
  },
  "toc": {
   "base_numbering": 1,
   "nav_menu": {},
   "number_sections": true,
   "sideBar": true,
   "skip_h1_title": false,
   "title_cell": "Table of Contents",
   "title_sidebar": "Contents",
   "toc_cell": false,
   "toc_position": {},
   "toc_section_display": true,
   "toc_window_display": false
  },
  "varInspector": {
   "cols": {
    "lenName": 16,
    "lenType": 16,
    "lenVar": 40
   },
   "kernels_config": {
    "python": {
     "delete_cmd_postfix": "",
     "delete_cmd_prefix": "del ",
     "library": "var_list.py",
     "varRefreshCmd": "print(var_dic_list())"
    },
    "r": {
     "delete_cmd_postfix": ") ",
     "delete_cmd_prefix": "rm(",
     "library": "var_list.r",
     "varRefreshCmd": "cat(var_dic_list()) "
    }
   },
   "types_to_exclude": [
    "module",
    "function",
    "builtin_function_or_method",
    "instance",
    "_Feature"
   ],
   "window_display": false
  }
 },
 "nbformat": 4,
 "nbformat_minor": 2
}
